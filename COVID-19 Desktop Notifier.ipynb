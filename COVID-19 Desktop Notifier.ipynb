{
 "cells": [
  {
   "cell_type": "code",
   "execution_count": 2,
   "id": "palestinian-butterfly",
   "metadata": {},
   "outputs": [],
   "source": [
    "from urllib.request import urlopen,Request\n",
    "from bs4 import BeautifulSoup as soup\n",
    "from win10toast import ToastNotifier\n"
   ]
  },
  {
   "cell_type": "code",
   "execution_count": 3,
   "id": "raised-centre",
   "metadata": {},
   "outputs": [],
   "source": [
    "url=\"https://news.google.com/covid19/map?hl=en-IN&mid=%2Fm%2F03rk0&gl=IN&ceid=IN%3Aen\"\n",
    "header={\"User-Agent\":\"Mozilla\"}\n",
    "req=Request(url,headers=header)\n",
    "html_data=urlopen(req)"
   ]
  },
  {
   "cell_type": "code",
   "execution_count": 4,
   "id": "precise-deputy",
   "metadata": {},
   "outputs": [],
   "source": [
    "html_data=soup(html_data,'html.parser')"
   ]
  },
  {
   "cell_type": "code",
   "execution_count": 5,
   "id": "particular-recording",
   "metadata": {},
   "outputs": [],
   "source": [
    "data=html_data.findAll('table',{'class':\"pH8O4c\"})[0].tbody\n",
    "datai=data.findAll('tr')[1]\n",
    "new_cases=datai.findAll('td')[1].text\n",
    "datau=data.findAll('tr')[8]\n",
    "new_casesu=datau.findAll('td')[1].text"
   ]
  },
  {
   "cell_type": "code",
   "execution_count": 15,
   "id": "determined-madagascar",
   "metadata": {},
   "outputs": [
    {
     "data": {
      "text/plain": [
       "True"
      ]
     },
     "execution_count": 15,
     "metadata": {},
     "output_type": "execute_result"
    }
   ],
   "source": [
    "message=\"  New Cases \\nIndia ->  \"+str(new_cases)+'\\n'+'UP    ->  '+str(new_casesu)\n",
    "notifier=ToastNotifier()\n",
    "notifier.show_toast(title=\"Covid-19 India Update\", msg=message,duration=5)"
   ]
  },
  {
   "cell_type": "code",
   "execution_count": null,
   "id": "distinguished-addiction",
   "metadata": {},
   "outputs": [],
   "source": []
  }
 ],
 "metadata": {
  "kernelspec": {
   "display_name": "Python 3",
   "language": "python",
   "name": "python3"
  },
  "language_info": {
   "codemirror_mode": {
    "name": "ipython",
    "version": 3
   },
   "file_extension": ".py",
   "mimetype": "text/x-python",
   "name": "python",
   "nbconvert_exporter": "python",
   "pygments_lexer": "ipython3",
   "version": "3.9.2"
  }
 },
 "nbformat": 4,
 "nbformat_minor": 5
}
